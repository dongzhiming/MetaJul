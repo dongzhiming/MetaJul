{
 "cells": [
  {
   "cell_type": "markdown",
   "id": "7761d42f",
   "metadata": {},
   "source": [
    "# Creating problems \n",
    "In this notebook, we show two ways for defining optimization problems in MetaJul. We focus here in continuous problems, but the same approaches can be applied to other kind of problems.\n",
    "\n",
    "A continuous problem is characterized by\n",
    "\n",
    "* A vector of ``Bounds`` objects, specifying the lower and upper bounds of the decision variables\n",
    "* A vector containing the objective values\n",
    "* A vector contining the overall constraint violation values (not used for now)\n",
    "* The problem name\n",
    "\n",
    "so the point is how to create a problem including these elements. Both approaches make use of ``createSolution()`` function that creates a solution with its variables initialized randomly from the problem bounds:\n",
    "\n",
    "```julia\n",
    "function createSolution(problem::AbstractContinuousProblem{T})::ContinuousSolution{T} where {T<:Number}\n",
    "  x = [problem.bounds[i].lowerBound + rand() * (problem.bounds[i].upperBound - problem.bounds[i].lowerBound) for i in 1:length(problem.bounds)]\n",
    "\n",
    "  return ContinuousSolution{T}(x, zeros(numberOfObjectives(problem)), zeros(numberOfConstraints(problem)), Dict(), problem.bounds)\n",
    "end\n",
    "```"
   ]
  },
  {
   "cell_type": "markdown",
   "id": "918b73e2",
   "metadata": {},
   "source": [
    "## Method 1: Using the struct ``ContinuousProblem``"
   ]
  },
  {
   "cell_type": "markdown",
   "id": "267837a9",
   "metadata": {},
   "source": [
    "The first approach is to create them in a dynamic way by creating an instance of the ``ContinuousProblem`` struct defined in ``src/continuousProblem.jl``:"
   ]
  },
  {
   "cell_type": "markdown",
   "id": "2401d80b",
   "metadata": {},
   "source": [
    "```julia\n",
    "abstract type AbstractContinuousProblem{T<:Number} <: Problem{T} end\n",
    "\n",
    "mutable struct ContinuousProblem{T} <: AbstractContinuousProblem{T}\n",
    "  bounds::Vector{Bounds{T}}\n",
    "  objectives::Vector{Function}\n",
    "  constraints::Vector{Function}\n",
    "  name::String\n",
    "end\n",
    "```"
   ]
  },
  {
   "cell_type": "markdown",
   "id": "65958db8",
   "metadata": {},
   "source": [
    "Let us suppose that we intend to implement problem Schaffer:\n",
    "\n",
    "$$\n",
    "f_1(x) = x \n",
    "$$\n",
    "$$\n",
    "f_2(x) = (x-2)^2\n",
    "$$\n",
    "$$\n",
    "x \\in [-10^3, 10^3]\n",
    "$$\n",
    "\n",
    "We can create the problem in this way:\n",
    "```julia\n",
    "  schaffer = ContinuousProblem{Real}(\"Schaffer\")\n",
    "\n",
    "  f = x -> x[1] * x[1]\n",
    "  g = x -> (x[1] - 2.0) * (x[1] - 2.0)\n",
    "\n",
    "  addObjective(schaffer, f)\n",
    "  addObjective(schaffer, g)\n",
    "  addVariable(schaffer, Bounds{Real}(-1000.0, 1000.0))\n",
    "```"
   ]
  },
  {
   "cell_type": "code",
   "execution_count": 10,
   "id": "44759988",
   "metadata": {},
   "outputs": [
    {
     "name": "stdout",
     "output_type": "stream",
     "text": [
      "ContinuousProblem{Real}(Bounds{Real}[Bounds{Real}(-1000.0, 1000.0)], Function[var\"#222#223\"(), var\"#224#225\"()], Function[], \"Schaffer\")\n"
     ]
    }
   ],
   "source": [
    "include(\"../src/continuousProblem.jl\")\n",
    "\n",
    "schaffer = ContinuousProblem{Real}(\"Schaffer\")\n",
    "\n",
    "f = x -> x[1] * x[1]\n",
    "g = x -> (x[1] - 2.0) * (x[1] - 2.0)\n",
    "\n",
    "addObjective(schaffer, f)\n",
    "addObjective(schaffer, g)\n",
    "addVariable(schaffer, Bounds{Real}(-1000.0, 1000.0))\n",
    "\n",
    "println(schaffer)"
   ]
  },
  {
   "cell_type": "markdown",
   "id": "80ce96f9",
   "metadata": {},
   "source": [
    "As this is a benchmark problem, we have encapsulated this code into a function: \n",
    "```julia\n",
    "function schafferProblem()\n",
    "  schaffer = ContinuousProblem{Real}(\"Schaffer\")\n",
    "\n",
    "  f = x -> x[1] * x[1]\n",
    "  g = x -> (x[1] - 2.0) * (x[1] - 2.0)\n",
    "\n",
    "  addObjective(schaffer, f)\n",
    "  addObjective(schaffer, g)\n",
    "  addVariable(schaffer, Bounds{Real}(-1000.0, 1000.0))\n",
    "\n",
    "  return schaffer\n",
    "end\n",
    "\n",
    "```"
   ]
  },
  {
   "cell_type": "markdown",
   "id": "7688f6e8",
   "metadata": {},
   "source": [
    "To get the elements of a problem created in this way, the following functions are provided:\n",
    "```julia\n",
    "\n",
    "function numberOfVariables(problem::ContinuousProblem{T}) where {T}\n",
    "  return length(problem.bounds)\n",
    "end\n",
    "\n",
    "function numberOfObjectives(problem::ContinuousProblem{T}) where {T}\n",
    "  return length(problem.objectives)\n",
    "end\n",
    "\n",
    "function numberOfConstraints(problem::ContinuousProblem{T}) where {T}\n",
    "  return length(problem.constraints)\n",
    "end\n",
    "\n",
    "function name(problem::ContinuousProblem{T}) where {T}\n",
    "  return problem.name\n",
    "end\n",
    "\n",
    "function bounds(problem::ContinuousProblem{T}) where {T}\n",
    "  return problem.bounds\n",
    "end\n",
    "\n",
    "```"
   ]
  },
  {
   "cell_type": "code",
   "execution_count": 11,
   "id": "d496dfdc",
   "metadata": {},
   "outputs": [
    {
     "name": "stdout",
     "output_type": "stream",
     "text": [
      "Number of variables: 1\n",
      "Number of objectives: 2\n",
      "Number of constraints: 0\n",
      "Name: Schaffer\n",
      "Bounds: Bounds{Real}[Bounds{Real}(-1000.0, 1000.0)]\n"
     ]
    }
   ],
   "source": [
    "println(\"Number of variables: \", numberOfVariables(schaffer))\n",
    "println(\"Number of objectives: \", numberOfObjectives(schaffer))\n",
    "println(\"Number of constraints: \", numberOfConstraints(schaffer))\n",
    "println(\"Name: \", name(schaffer))\n",
    "println(\"Bounds: \", bounds(schaffer))"
   ]
  },
  {
   "cell_type": "markdown",
   "id": "10cbc2cb",
   "metadata": {},
   "source": [
    "When a new solution is created, it must be evaluated to compute its objective values from the problem. The function for solution evaluations is common to all the problems created using the ``ContinuousProblem``struct: \n",
    "```julia\n",
    "function evaluate(solution::ContinuousSolution{T}, problem::ContinuousProblem{T})::ContinuousSolution{T} where {T<:Number}\n",
    "  for i in 1:length(problem.objectives)\n",
    "    solution.objectives[i] = problem.objectives[i](solution.variables)\n",
    "  end\n",
    "\n",
    "  for i in 1:length(problem.constraints)\n",
    "    solution.constraints[i] = problem.constraints[i](solution.variables)\n",
    "  end\n",
    "\n",
    "  return solution\n",
    "end\n",
    "\n",
    "```"
   ]
  },
  {
   "cell_type": "markdown",
   "id": "7f31d52c",
   "metadata": {},
   "source": [
    "## Method 2: Creating a specific struct for the problem"
   ]
  },
  {
   "cell_type": "markdown",
   "id": "8580beb0",
   "metadata": {},
   "source": [
    "There are problems whose functions are not independent (e.g., the formulation of a function includes other function), so the approach of using the ``ContinuousProblem`` struct is not apropriate. An example is the ZDT6 problem, in which the second objective contains the value of evaluation the first one:"
   ]
  },
  {
   "cell_type": "markdown",
   "id": "5a3b386e",
   "metadata": {},
   "source": [
    "$$\n",
    "f_1(\\vec{x}) = 1 - exp(-4x_1)sin^6(6{\\pi}x_1) \n",
    "$$\n",
    "$$\n",
    "f_2(\\vec{x}) = g(\\vec{x})[1 - (f_1(\\vec{x})/g(\\vec{x}))^2]\n",
    "$$\n",
    "$$\n",
    "g(\\vec{x}) = 1 + 9[(\\sum_{i=2}^{n}x_i)/(n - 1)]^0.25\n",
    "$$\n",
    "$$\n",
    "x \\in [0.0, 1.0]\n",
    "$$"
   ]
  },
  {
   "cell_type": "markdown",
   "id": "3436659b",
   "metadata": {},
   "source": [
    "This problem can be implemented as follows. First, we create a struct called ``ZDT6`` to contain the problem bounds:\n",
    "    \n",
    "```julia\n",
    "struct ZDT6 <: AbstractContinuousProblem{Float64}\n",
    "  bounds::Vector{Bounds{Float64}}\n",
    "end\n",
    "```"
   ]
  },
  {
   "cell_type": "markdown",
   "id": "1d66030a",
   "metadata": {},
   "source": [
    "Next we define a function called ``zdt6Problem()`` which initializes the problem bounds and the set of functions to retrieve the problem data:\n",
    "\n",
    "```julia\n",
    "function zdt6Problem(numberOfVariables::Int=10)\n",
    "  bounds = [Bounds{Float64}(0.0, 1.0) for _ in range(1, numberOfVariables)]\n",
    "\n",
    "  return ZDT6(bounds)\n",
    "end\n",
    "\n",
    "function numberOfVariables(problem::ZDT6)\n",
    "  return length(problem.bounds)\n",
    "end\n",
    "\n",
    "function numberOfObjectives(problem::ZDT6)\n",
    "  return 2\n",
    "end\n",
    "\n",
    "function numberOfConstraints(problem::ZDT6)\n",
    "  return 0\n",
    "end\n",
    "\n",
    "function name(problem::ZDT6)\n",
    "  return \"ZDT6\"\n",
    "end\n",
    "\n",
    "```"
   ]
  },
  {
   "cell_type": "markdown",
   "id": "6f800c1a",
   "metadata": {},
   "source": [
    "The last step is to implement the ``evaluate`` method containing the code of the objective functions:\n",
    "```julia\n",
    "function evaluate(solution::ContinuousSolution{Float64}, problem::ZDT6)::ContinuousSolution{Float64}\n",
    "  x = solution.variables\n",
    "  @assert length(x) == numberOfVariables(problem) \"The number of variables of the solution to be evaluated is not correct\"\n",
    "\n",
    "  function evalG(x::Vector{Float64})\n",
    "    g = sum(x[i] for i in range(2,length(x)))\n",
    "    g = g / (length(x) - 1.0)\n",
    "\n",
    "    g = ^(g, 0.25)\n",
    "    g = 9.0 * g\n",
    "    g = 1.0 + g\n",
    "\n",
    "    return g\n",
    "  end\n",
    "\n",
    "  function evalH(v::Float64, g::Float64)\n",
    "    return 1.0 - ^(v/g, 2.0)\n",
    "  end\n",
    "\n",
    "  f1 = 1.0 - exp(-4.0*x[1]) * ^(sin(6*pi*x[1]),6.0)\n",
    "  g = evalG(x)\n",
    "  h = evalH(f1, g)\n",
    "  f2 = g * h\n",
    " \n",
    "  solution.objectives = [f1, f2]\n",
    "\n",
    "  return solution\n",
    "end\n",
    "```"
   ]
  },
  {
   "cell_type": "code",
   "execution_count": null,
   "id": "00ca6da7",
   "metadata": {},
   "outputs": [],
   "source": []
  }
 ],
 "metadata": {
  "kernelspec": {
   "display_name": "Julia 1.8.0",
   "language": "julia",
   "name": "julia-1.8"
  },
  "language_info": {
   "file_extension": ".jl",
   "mimetype": "application/julia",
   "name": "julia",
   "version": "1.8.0"
  }
 },
 "nbformat": 4,
 "nbformat_minor": 5
}
