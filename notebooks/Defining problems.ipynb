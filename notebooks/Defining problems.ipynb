{
 "cells": [
  {
   "cell_type": "markdown",
   "id": "7761d42f",
   "metadata": {},
   "source": [
    "# Creating problems \n",
    "In this notebook, we show two ways for defining optimization problems in MetaJul. We focus here in continuous problems, but the same approaches can be applied to other kind of problems.\n",
    "\n",
    "A continuous problem is characterized by\n",
    "\n",
    "* A vector of ``Bounds`` objects, specifying the lower and upper bounds of the decision variables\n",
    "* A vector containing the objective values\n",
    "* A vector contining the overall constraint violation values (not used for now)\n",
    "* The problem name\n",
    "\n",
    "so the point is how to create a problem including these elements."
   ]
  },
  {
   "cell_type": "markdown",
   "id": "918b73e2",
   "metadata": {},
   "source": [
    "## Method 1: Using the struct ``ContinuousProblem``"
   ]
  },
  {
   "cell_type": "markdown",
   "id": "267837a9",
   "metadata": {},
   "source": [
    "The first approach is to create them in a dynamic way by creating an instance of the ``ContinuousProblem`` struct defined in ``src/continuousProblem.jl``:"
   ]
  },
  {
   "cell_type": "markdown",
   "id": "2401d80b",
   "metadata": {},
   "source": [
    "```julia\n",
    "abstract type AbstractContinuousProblem{T<:Number} <: Problem{T} end\n",
    "\n",
    "mutable struct ContinuousProblem{T} <: AbstractContinuousProblem{T}\n",
    "  bounds::Vector{Bounds{T}}\n",
    "  objectives::Vector{Function}\n",
    "  constraints::Vector{Function}\n",
    "  name::String\n",
    "end\n",
    "```"
   ]
  },
  {
   "cell_type": "markdown",
   "id": "65958db8",
   "metadata": {},
   "source": [
    "Let us suppose that we intend to implement problem Schaffer:\n",
    "\n",
    "$$\n",
    "f_1(x) = x \n",
    "$$\n",
    "$$\n",
    "f_2(x) = (x-2)^2\n",
    "$$\n",
    "$$\n",
    "x \\in [-10^3, 10^3]\n",
    "$$\n",
    "\n",
    "We can create the problem in this way:\n",
    "```julia\n",
    "  schaffer = ContinuousProblem{Real}(\"Schaffer\")\n",
    "\n",
    "  f = x -> x[1] * x[1]\n",
    "  g = x -> (x[1] - 2.0) * (x[1] - 2.0)\n",
    "\n",
    "  addObjective(schaffer, f)\n",
    "  addObjective(schaffer, g)\n",
    "  addVariable(schaffer, Bounds{Real}(-1000.0, 1000.0))\n",
    "```"
   ]
  },
  {
   "cell_type": "code",
   "execution_count": 10,
   "id": "44759988",
   "metadata": {},
   "outputs": [
    {
     "name": "stdout",
     "output_type": "stream",
     "text": [
      "ContinuousProblem{Real}(Bounds{Real}[Bounds{Real}(-1000.0, 1000.0)], Function[var\"#222#223\"(), var\"#224#225\"()], Function[], \"Schaffer\")\n"
     ]
    }
   ],
   "source": [
    "include(\"../src/continuousProblem.jl\")\n",
    "\n",
    "schaffer = ContinuousProblem{Real}(\"Schaffer\")\n",
    "\n",
    "f = x -> x[1] * x[1]\n",
    "g = x -> (x[1] - 2.0) * (x[1] - 2.0)\n",
    "\n",
    "addObjective(schaffer, f)\n",
    "addObjective(schaffer, g)\n",
    "addVariable(schaffer, Bounds{Real}(-1000.0, 1000.0))\n",
    "\n",
    "println(schaffer)"
   ]
  },
  {
   "cell_type": "markdown",
   "id": "80ce96f9",
   "metadata": {},
   "source": [
    "As this is a benchmark problem, we have encapsulated this code into a function: \n",
    "```julia\n",
    "function schafferProblem()\n",
    "  schaffer = ContinuousProblem{Real}(\"Schaffer\")\n",
    "\n",
    "  f = x -> x[1] * x[1]\n",
    "  g = x -> (x[1] - 2.0) * (x[1] - 2.0)\n",
    "\n",
    "  addObjective(schaffer, f)\n",
    "  addObjective(schaffer, g)\n",
    "  addVariable(schaffer, Bounds{Real}(-1000.0, 1000.0))\n",
    "\n",
    "  return schaffer\n",
    "end\n",
    "\n",
    "```"
   ]
  },
  {
   "cell_type": "markdown",
   "id": "7688f6e8",
   "metadata": {},
   "source": [
    "To get the elements of a problem created in this way, the following functions are provided:\n",
    "```julia\n",
    "\n",
    "function numberOfVariables(problem::ContinuousProblem{T}) where {T}\n",
    "  return length(problem.bounds)\n",
    "end\n",
    "\n",
    "function numberOfObjectives(problem::ContinuousProblem{T}) where {T}\n",
    "  return length(problem.objectives)\n",
    "end\n",
    "\n",
    "function numberOfConstraints(problem::ContinuousProblem{T}) where {T}\n",
    "  return length(problem.constraints)\n",
    "end\n",
    "\n",
    "function name(problem::ContinuousProblem{T}) where {T}\n",
    "  return problem.name\n",
    "end\n",
    "\n",
    "function bounds(problem::ContinuousProblem{T}) where {T}\n",
    "  return problem.bounds\n",
    "end\n",
    "\n",
    "```"
   ]
  },
  {
   "cell_type": "code",
   "execution_count": 11,
   "id": "d496dfdc",
   "metadata": {},
   "outputs": [
    {
     "name": "stdout",
     "output_type": "stream",
     "text": [
      "Number of variables: 1\n",
      "Number of objectives: 2\n",
      "Number of constraints: 0\n",
      "Name: Schaffer\n",
      "Bounds: Bounds{Real}[Bounds{Real}(-1000.0, 1000.0)]\n"
     ]
    }
   ],
   "source": [
    "println(\"Number of variables: \", numberOfVariables(schaffer))\n",
    "println(\"Number of objectives: \", numberOfObjectives(schaffer))\n",
    "println(\"Number of constraints: \", numberOfConstraints(schaffer))\n",
    "println(\"Name: \", name(schaffer))\n",
    "println(\"Bounds: \", bounds(schaffer))"
   ]
  },
  {
   "cell_type": "markdown",
   "id": "10cbc2cb",
   "metadata": {},
   "source": [
    "When a new solution is created, it must be evaluated to compute its objective values from the problem. The function for solution evaluations is common to all the problems created using the ``ContinuousProblem``struct: \n",
    "```julia\n",
    "function evaluate(solution::ContinuousSolution{T}, problem::ContinuousProblem{T})::ContinuousSolution{T} where {T<:Number}\n",
    "  for i in 1:length(problem.objectives)\n",
    "    solution.objectives[i] = problem.objectives[i](solution.variables)\n",
    "  end\n",
    "\n",
    "  for i in 1:length(problem.constraints)\n",
    "    solution.constraints[i] = problem.constraints[i](solution.variables)\n",
    "  end\n",
    "\n",
    "  return solution\n",
    "end\n",
    "\n",
    "```"
   ]
  },
  {
   "cell_type": "code",
   "execution_count": 12,
   "id": "66b4959c",
   "metadata": {},
   "outputs": [],
   "source": [
    "## Method 2: Creating a specific struct "
   ]
  },
  {
   "cell_type": "markdown",
   "id": "8580beb0",
   "metadata": {},
   "source": [
    "There are problems whose functions are not independent (e.g., the formulation of a function includes other function), so the approach of using the ``ContinuousProblem`` struct is not apropriate."
   ]
  },
  {
   "cell_type": "code",
   "execution_count": 13,
   "id": "962d6a7c",
   "metadata": {},
   "outputs": [],
   "source": [
    "# TODO"
   ]
  }
 ],
 "metadata": {
  "kernelspec": {
   "display_name": "Julia 1.8.0",
   "language": "julia",
   "name": "julia-1.8"
  },
  "language_info": {
   "file_extension": ".jl",
   "mimetype": "application/julia",
   "name": "julia",
   "version": "1.8.0"
  }
 },
 "nbformat": 4,
 "nbformat_minor": 5
}
