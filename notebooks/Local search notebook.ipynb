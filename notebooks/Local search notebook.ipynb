{
 "cells": [
  {
   "cell_type": "markdown",
   "id": "503a7802",
   "metadata": {},
   "source": [
    "# Local search examples\n",
    "This notebook contains examples of how to configure and use the local search algorithm included in MetaJul. "
   ]
  },
  {
   "cell_type": "code",
   "execution_count": 1,
   "id": "de4a0af0",
   "metadata": {},
   "outputs": [],
   "source": [
    "using MetaJul"
   ]
  },
  {
   "cell_type": "markdown",
   "id": "a31bb1d9",
   "metadata": {},
   "source": [
    "## Local search components"
   ]
  },
  {
   "cell_type": "markdown",
   "id": "32a8c9df",
   "metadata": {},
   "source": [
    "The local search implemented in Julia is based on the following struct (we have omitted other non-relevant fields):\n",
    "\n",
    "``` Julia\n",
    "mutable struct LocalSearch <: Algorithm\n",
    "  startingSolution::Solution\n",
    "  problem::Problem\n",
    "  termination::Termination\n",
    "  mutation::MutationOperator\n",
    "end\n",
    "```\n",
    "\n",
    "The components of the structure are:\n",
    "\n",
    "* `startingSolution`: starting point of the local search. It is assumed that this solution is already evaluated.\n",
    "* `problem`: problem to optimize. Currently, the local search can be applied to float (continuous) and binary problems.\n",
    "* `mutation`: operator used to simulate the concept of neighborhood by mutating the current solution.\n",
    "* `termination`: termination condition of the algorithm. The choices are by computing time or by performing a pre-defined number of iterations, but other condicitions could be incorporated.\n",
    "\n"
   ]
  },
  {
   "cell_type": "markdown",
   "id": "137e3d40",
   "metadata": {},
   "source": [
    "## Example: binary problem with default settings\n",
    "The default settings is to terminate after 10000 iterations and the mutation operator is bit blip for binary problems"
   ]
  },
  {
   "cell_type": "code",
   "execution_count": 2,
   "id": "243740cd",
   "metadata": {},
   "outputs": [],
   "source": [
    "# Step 1. Create the problem\n",
    "problem = oneMax(512) ;"
   ]
  },
  {
   "cell_type": "code",
   "execution_count": 3,
   "id": "68d55ed5",
   "metadata": {},
   "outputs": [],
   "source": [
    "# Step 2. Create a solution and evaluate it\n",
    "startingSolution = createSolution(problem)\n",
    "evaluate(startingSolution, problem) ;"
   ]
  },
  {
   "cell_type": "code",
   "execution_count": 4,
   "id": "5a4a4307",
   "metadata": {},
   "outputs": [],
   "source": [
    "# Step 3. Create a local search instance with default settings for binary problems\n",
    "solver = LocalSearch(startingSolution, problem) ;"
   ]
  },
  {
   "cell_type": "code",
   "execution_count": 5,
   "id": "02a9b748",
   "metadata": {},
   "outputs": [],
   "source": [
    "# Step 4. Run the algorithm\n",
    "optimize(solver) ;"
   ]
  },
  {
   "cell_type": "code",
   "execution_count": 6,
   "id": "d6a797c8",
   "metadata": {},
   "outputs": [
    {
     "name": "stdout",
     "output_type": "stream",
     "text": [
      "Fitness: 512.0\n"
     ]
    }
   ],
   "source": [
    "# Step 5. Print output information\n",
    "foundSolution = solver.currentSolution\n",
    "println(\"Fitness: \", -1.0 * foundSolution.objectives[1]) # OneMax is a maximization problem"
   ]
  },
  {
   "cell_type": "code",
   "execution_count": 7,
   "id": "df8ef22e",
   "metadata": {},
   "outputs": [
    {
     "name": "stdout",
     "output_type": "stream",
     "text": [
      "Local search results: MetaJul.BitVector(Bool[1, 1, 1, 1, 1, 1, 1, 1, 1, 1, 1, 1, 1, 1, 1, 1, 1, 1, 1, 1, 1, 1, 1, 1, 1, 1, 1, 1, 1, 1, 1, 1, 1, 1, 1, 1, 1, 1, 1, 1, 1, 1, 1, 1, 1, 1, 1, 1, 1, 1, 1, 1, 1, 1, 1, 1, 1, 1, 1, 1, 1, 1, 1, 1, 1, 1, 1, 1, 1, 1, 1, 1, 1, 1, 1, 1, 1, 1, 1, 1, 1, 1, 1, 1, 1, 1, 1, 1, 1, 1, 1, 1, 1, 1, 1, 1, 1, 1, 1, 1, 1, 1, 1, 1, 1, 1, 1, 1, 1, 1, 1, 1, 1, 1, 1, 1, 1, 1, 1, 1, 1, 1, 1, 1, 1, 1, 1, 1, 1, 1, 1, 1, 1, 1, 1, 1, 1, 1, 1, 1, 1, 1, 1, 1, 1, 1, 1, 1, 1, 1, 1, 1, 1, 1, 1, 1, 1, 1, 1, 1, 1, 1, 1, 1, 1, 1, 1, 1, 1, 1, 1, 1, 1, 1, 1, 1, 1, 1, 1, 1, 1, 1, 1, 1, 1, 1, 1, 1, 1, 1, 1, 1, 1, 1, 1, 1, 1, 1, 1, 1, 1, 1, 1, 1, 1, 1, 1, 1, 1, 1, 1, 1, 1, 1, 1, 1, 1, 1, 1, 1, 1, 1, 1, 1, 1, 1, 1, 1, 1, 1, 1, 1, 1, 1, 1, 1, 1, 1, 1, 1, 1, 1, 1, 1, 1, 1, 1, 1, 1, 1, 1, 1, 1, 1, 1, 1, 1, 1, 1, 1, 1, 1, 1, 1, 1, 1, 1, 1, 1, 1, 1, 1, 1, 1, 1, 1, 1, 1, 1, 1, 1, 1, 1, 1, 1, 1, 1, 1, 1, 1, 1, 1, 1, 1, 1, 1, 1, 1, 1, 1, 1, 1, 1, 1, 1, 1, 1, 1, 1, 1, 1, 1, 1, 1, 1, 1, 1, 1, 1, 1, 1, 1, 1, 1, 1, 1, 1, 1, 1, 1, 1, 1, 1, 1, 1, 1, 1, 1, 1, 1, 1, 1, 1, 1, 1, 1, 1, 1, 1, 1, 1, 1, 1, 1, 1, 1, 1, 1, 1, 1, 1, 1, 1, 1, 1, 1, 1, 1, 1, 1, 1, 1, 1, 1, 1, 1, 1, 1, 1, 1, 1, 1, 1, 1, 1, 1, 1, 1, 1, 1, 1, 1, 1, 1, 1, 1, 1, 1, 1, 1, 1, 1, 1, 1, 1, 1, 1, 1, 1, 1, 1, 1, 1, 1, 1, 1, 1, 1, 1, 1, 1, 1, 1, 1, 1, 1, 1, 1, 1, 1, 1, 1, 1, 1, 1, 1, 1, 1, 1, 1, 1, 1, 1, 1, 1, 1, 1, 1, 1, 1, 1, 1, 1, 1, 1, 1, 1, 1, 1, 1, 1, 1, 1, 1, 1, 1, 1, 1, 1, 1, 1, 1, 1, 1, 1, 1, 1, 1, 1, 1, 1, 1, 1, 1, 1, 1, 1, 1, 1, 1, 1, 1, 1, 1, 1, 1, 1, 1, 1, 1, 1, 1, 1, 1, 1, 1, 1, 1, 1, 1, 1, 1])\n"
     ]
    }
   ],
   "source": [
    "println(\"Local search results: \", foundSolution.variables)"
   ]
  },
  {
   "cell_type": "markdown",
   "id": "83a84074",
   "metadata": {},
   "source": [
    "## Example: binary problem with specific settings"
   ]
  },
  {
   "cell_type": "code",
   "execution_count": 8,
   "id": "9712c0d8",
   "metadata": {},
   "outputs": [],
   "source": [
    "# Step 1. Create the problem and the initial solution\n",
    "problem = oneMax(512) \n",
    "\n",
    "startingSolution = createSolution(problem)\n",
    "evaluate(startingSolution, problem) ;"
   ]
  },
  {
   "cell_type": "code",
   "execution_count": 9,
   "id": "7835b433",
   "metadata": {},
   "outputs": [],
   "source": [
    "# Step 2. Define the local search parameters\n",
    "mutation = BitFlipMutation(1.0 / numberOfVariables(problem))\n",
    "termination = TerminationByIterations(5000) ;"
   ]
  },
  {
   "cell_type": "code",
   "execution_count": 10,
   "id": "74bccf6e",
   "metadata": {},
   "outputs": [],
   "source": [
    "# Step 3. Configure the local search\n",
    "solver = LocalSearch(\n",
    "    startingSolution, \n",
    "    problem, \n",
    "    termination = termination, \n",
    "    mutation = mutation) ;"
   ]
  },
  {
   "cell_type": "code",
   "execution_count": 11,
   "id": "7ec30900",
   "metadata": {},
   "outputs": [
    {
     "name": "stdout",
     "output_type": "stream",
     "text": [
      "Fitness: 510.0\n",
      "Local search results: MetaJul.BitVector(Bool[1, 1, 1, 1, 1, 1, 1, 1, 1, 1, 1, 1, 1, 1, 1, 1, 1, 1, 1, 1, 1, 1, 1, 1, 1, 1, 1, 1, 1, 1, 1, 1, 1, 1, 1, 1, 1, 1, 1, 1, 1, 1, 1, 1, 1, 1, 1, 1, 1, 1, 1, 1, 1, 1, 1, 1, 1, 1, 1, 1, 1, 1, 1, 1, 1, 1, 1, 1, 1, 1, 1, 1, 1, 1, 1, 1, 1, 1, 1, 1, 1, 1, 1, 1, 1, 1, 1, 1, 1, 1, 1, 1, 1, 1, 1, 1, 1, 1, 1, 1, 1, 1, 1, 1, 1, 1, 1, 1, 1, 1, 1, 1, 1, 1, 1, 1, 1, 1, 1, 1, 1, 1, 1, 1, 1, 1, 1, 1, 1, 1, 1, 1, 1, 1, 1, 1, 1, 1, 1, 1, 1, 1, 1, 1, 1, 1, 1, 1, 1, 1, 1, 1, 1, 1, 1, 1, 1, 1, 1, 1, 1, 1, 1, 1, 1, 1, 1, 1, 1, 1, 1, 1, 1, 1, 1, 1, 1, 1, 1, 1, 1, 1, 1, 1, 1, 1, 1, 1, 1, 1, 1, 1, 1, 1, 1, 1, 1, 1, 1, 1, 1, 1, 1, 1, 1, 1, 1, 1, 1, 1, 1, 1, 1, 1, 1, 1, 1, 1, 1, 1, 1, 1, 1, 1, 1, 1, 1, 0, 1, 1, 1, 1, 1, 1, 1, 1, 1, 1, 1, 1, 1, 1, 1, 1, 1, 1, 1, 1, 1, 1, 1, 1, 1, 1, 1, 1, 1, 1, 1, 1, 1, 1, 1, 1, 1, 1, 1, 1, 1, 1, 1, 1, 1, 1, 1, 1, 1, 1, 1, 1, 1, 1, 1, 1, 1, 1, 1, 1, 1, 1, 1, 1, 1, 1, 1, 1, 1, 1, 1, 1, 1, 1, 1, 1, 1, 1, 1, 1, 1, 1, 1, 1, 1, 1, 1, 1, 1, 1, 1, 1, 1, 1, 1, 1, 1, 1, 1, 1, 1, 1, 1, 1, 1, 1, 1, 1, 1, 1, 1, 1, 1, 1, 1, 1, 1, 1, 1, 1, 1, 1, 1, 1, 1, 1, 1, 1, 1, 1, 1, 1, 1, 1, 1, 1, 1, 1, 1, 1, 1, 1, 1, 1, 1, 1, 1, 1, 1, 1, 1, 1, 1, 1, 1, 1, 1, 1, 1, 1, 1, 1, 1, 1, 1, 1, 1, 1, 1, 1, 1, 1, 1, 1, 1, 1, 1, 1, 1, 1, 1, 1, 1, 1, 1, 1, 1, 1, 1, 1, 1, 1, 1, 1, 1, 1, 1, 1, 1, 1, 1, 1, 0, 1, 1, 1, 1, 1, 1, 1, 1, 1, 1, 1, 1, 1, 1, 1, 1, 1, 1, 1, 1, 1, 1, 1, 1, 1, 1, 1, 1, 1, 1, 1, 1, 1, 1, 1, 1, 1, 1, 1, 1, 1, 1, 1, 1, 1, 1, 1, 1, 1, 1, 1, 1, 1, 1, 1, 1, 1, 1, 1, 1, 1, 1, 1, 1, 1, 1, 1, 1, 1, 1, 1, 1, 1, 1, 1, 1, 1, 1, 1, 1, 1])\n"
     ]
    }
   ],
   "source": [
    "# Step 4. Run the algorithm and print results\n",
    "optimize(solver) ;\n",
    "foundSolution = solver.currentSolution\n",
    "println(\"Fitness: \", -1.0 * foundSolution.objectives[1]) # OneMax is a maximization problem\n",
    "println(\"Local search results: \", foundSolution.variables)"
   ]
  },
  {
   "cell_type": "markdown",
   "id": "44730595",
   "metadata": {},
   "source": [
    "## Example: continuous problem with default settings\n",
    "The default settings is to terminate after 100000 iterations and the mutation operator is polynomial mutation."
   ]
  },
  {
   "cell_type": "code",
   "execution_count": 12,
   "id": "c6b690bb",
   "metadata": {},
   "outputs": [],
   "source": [
    "# Step 1. Create the problem and the initial solution\n",
    "problem = sphere(20) \n",
    "\n",
    "startingSolution = createSolution(problem)\n",
    "evaluate(startingSolution, problem) ;"
   ]
  },
  {
   "cell_type": "code",
   "execution_count": 13,
   "id": "e8dd973e",
   "metadata": {},
   "outputs": [],
   "source": [
    "# Step 2. Create the algorithm\n",
    "solver = LocalSearch(startingSolution, problem) ;"
   ]
  },
  {
   "cell_type": "code",
   "execution_count": 14,
   "id": "da5acb31",
   "metadata": {},
   "outputs": [
    {
     "name": "stdout",
     "output_type": "stream",
     "text": [
      "Fitness: 2.8408789108710964e-6\n",
      "Local search results: [6.180508319875155e-5, -0.00013778782549748688, -4.744811967762226e-6, -0.0005419060895404939, 0.00011647918713447519, 2.4755545604590536e-5, 0.00021616635650598256, -2.8528997395013255e-5, -0.0015373660975617808, 0.00014340461019102192, 0.0001557504020410377, -4.7578038787403354e-5, -1.604748381541738e-5, 1.77373894051573e-5, -0.00014146571655097525, 7.839739222833056e-5, -7.413093698461343e-5, -4.5140828840950454e-5, 9.002624162951015e-5, -9.857428798010215e-5]\n"
     ]
    }
   ],
   "source": [
    "# Step 3. Run the algorithm and print results\n",
    "optimize(solver) \n",
    "\n",
    "foundSolution = solver.currentSolution\n",
    "println(\"Fitness: \", foundSolution.objectives[1])\n",
    "println(\"Local search results: \", foundSolution.variables) ;"
   ]
  },
  {
   "cell_type": "markdown",
   "id": "5b016218",
   "metadata": {},
   "source": [
    "## Example: binary problem with specific settings"
   ]
  },
  {
   "cell_type": "code",
   "execution_count": 15,
   "id": "7da8fa40",
   "metadata": {},
   "outputs": [],
   "source": [
    "# Step 1. Create the problem and the initial solution\n",
    "problem = sphere(30) \n",
    "\n",
    "startingSolution = createSolution(problem)\n",
    "evaluate(startingSolution, problem) ;"
   ]
  },
  {
   "cell_type": "code",
   "execution_count": 16,
   "id": "d497ce7b",
   "metadata": {},
   "outputs": [],
   "source": [
    "# Step 2. Define the local search parameters\n",
    "mutation = UniformMutation(1.0 / numberOfVariables(problem), 0.5, problem.bounds)\n",
    "termination = TerminationByIterations(150000) ;"
   ]
  },
  {
   "cell_type": "code",
   "execution_count": 17,
   "id": "55c1166f",
   "metadata": {},
   "outputs": [],
   "source": [
    "# Step 3. Configure the local search\n",
    "solver = LocalSearch(\n",
    "    startingSolution, \n",
    "    problem, \n",
    "    termination = termination, \n",
    "    mutation = mutation) ;"
   ]
  },
  {
   "cell_type": "code",
   "execution_count": 18,
   "id": "2f2b66ef",
   "metadata": {},
   "outputs": [
    {
     "name": "stdout",
     "output_type": "stream",
     "text": [
      "Fitness: 1.4498148133253804e-6\n",
      "Local search results: [-0.0005038417842582188, -2.581656403771726e-5, 7.003101343699969e-5, 0.00014108850464322753, -5.470035011057028e-6, 3.458950234142e-5, -0.0005315816515205629, -0.00013998669788733986, 6.713308757905212e-5, -4.623029085304431e-5, -5.935069303197871e-5, 0.00014337544836967586, -5.3774684912411e-5, 0.000235933026373647, 9.138107231021486e-6, -0.0002359030077160318, 0.0002954043146000118, 0.00038058895569448303, -0.00010762050191975847, -2.9838238750634627e-5, -7.105518503247588e-5, 7.654822551894647e-5, -5.429240038656857e-7, 0.0001326175532470053, 2.493313161766597e-6, -0.0006533022220014395, 0.00011816615645560136, -4.544717535653886e-5, -7.838998858034074e-5, 1.6739402372012435e-6]\n"
     ]
    }
   ],
   "source": [
    "# Step 4. Run the algorithm and print results\n",
    "optimize(solver) \n",
    "\n",
    "foundSolution = solver.currentSolution\n",
    "println(\"Fitness: \", foundSolution.objectives[1])\n",
    "println(\"Local search results: \", foundSolution.variables) ;"
   ]
  },
  {
   "cell_type": "code",
   "execution_count": 19,
   "id": "819fb6b1",
   "metadata": {},
   "outputs": [],
   "source": []
  }
 ],
 "metadata": {
  "kernelspec": {
   "display_name": "Julia 1.10.4",
   "language": "julia",
   "name": "julia-1.10"
  },
  "language_info": {
   "file_extension": ".jl",
   "mimetype": "application/julia",
   "name": "julia",
   "version": "1.10.4"
  }
 },
 "nbformat": 4,
 "nbformat_minor": 5
}
