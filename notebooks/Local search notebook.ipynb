{
 "cells": [
  {
   "cell_type": "markdown",
   "id": "503a7802",
   "metadata": {},
   "source": [
    "# Local search examples\n",
    "This notebook contains examples of how to configure and use the local search algorithm included in MetaJul. "
   ]
  },
  {
   "cell_type": "code",
   "execution_count": 21,
   "id": "de4a0af0",
   "metadata": {},
   "outputs": [],
   "source": [
    "using MetaJul"
   ]
  },
  {
   "cell_type": "markdown",
   "id": "a31bb1d9",
   "metadata": {},
   "source": [
    "## Local search components"
   ]
  },
  {
   "cell_type": "markdown",
   "id": "32a8c9df",
   "metadata": {},
   "source": [
    "The local search implemented in Julia is based on the following struct (we have omitted other non-relevant fields):\n",
    "\n",
    "``` Julia\n",
    "mutable struct LocalSearch <: Algorithm\n",
    "  startingSolution::Solution\n",
    "  problem::Problem\n",
    "  termination::Termination\n",
    "  mutation::MutationOperator\n",
    "end\n",
    "```\n",
    "\n",
    "The components of the structure are:\n",
    "\n",
    "* `startingSolution`: starting point of the local search. It is assumed that this solution is already evaluated.\n",
    "* `problem`: problem to optimize. Currently, the local search can be applied to float (continuous) and binary problems.\n",
    "* `mutation`: operator used to simulate the concept of neighborhood by mutating the current solution.\n",
    "* `termination`: termination condition of the algorithm. The choices are by computing time or by performing a pre-defined number of iterations, but other condicitions could be incorporated.\n",
    "\n"
   ]
  },
  {
   "cell_type": "markdown",
   "id": "137e3d40",
   "metadata": {},
   "source": [
    "## Example: binary problem with default settings\n",
    "The default settings is to terminate after 10000 iterations and the mutation operator is bit blip for binary problems"
   ]
  },
  {
   "cell_type": "code",
   "execution_count": 22,
   "id": "243740cd",
   "metadata": {},
   "outputs": [],
   "source": [
    "# Step 1. Create the problem\n",
    "problem = oneMax(512) ;"
   ]
  },
  {
   "cell_type": "code",
   "execution_count": 23,
   "id": "68d55ed5",
   "metadata": {},
   "outputs": [],
   "source": [
    "# Step 2. Create a solution and evaluate it\n",
    "startingSolution = createSolution(problem)\n",
    "evaluate(startingSolution, problem) ;"
   ]
  },
  {
   "cell_type": "code",
   "execution_count": 24,
   "id": "5a4a4307",
   "metadata": {},
   "outputs": [],
   "source": [
    "# Step 3. Create a local search instance with default settings for binary problems\n",
    "solver = LocalSearch(startingSolution, problem) ;"
   ]
  },
  {
   "cell_type": "code",
   "execution_count": 25,
   "id": "02a9b748",
   "metadata": {},
   "outputs": [],
   "source": [
    "# Step 4. Run the algorithm\n",
    "optimize(solver) ;"
   ]
  },
  {
   "cell_type": "code",
   "execution_count": 26,
   "id": "d6a797c8",
   "metadata": {},
   "outputs": [
    {
     "name": "stdout",
     "output_type": "stream",
     "text": [
      "Fitness: 512.0\n"
     ]
    }
   ],
   "source": [
    "# Step 5. Print output information\n",
    "foundSolution = solver.currentSolution\n",
    "println(\"Fitness: \", -1.0 * foundSolution.objectives[1]) # OneMax is a maximization problem"
   ]
  },
  {
   "cell_type": "code",
   "execution_count": 27,
   "id": "df8ef22e",
   "metadata": {},
   "outputs": [
    {
     "name": "stdout",
     "output_type": "stream",
     "text": [
      "Local search results: MetaJul.BitVector(Bool[1, 1, 1, 1, 1, 1, 1, 1, 1, 1, 1, 1, 1, 1, 1, 1, 1, 1, 1, 1, 1, 1, 1, 1, 1, 1, 1, 1, 1, 1, 1, 1, 1, 1, 1, 1, 1, 1, 1, 1, 1, 1, 1, 1, 1, 1, 1, 1, 1, 1, 1, 1, 1, 1, 1, 1, 1, 1, 1, 1, 1, 1, 1, 1, 1, 1, 1, 1, 1, 1, 1, 1, 1, 1, 1, 1, 1, 1, 1, 1, 1, 1, 1, 1, 1, 1, 1, 1, 1, 1, 1, 1, 1, 1, 1, 1, 1, 1, 1, 1, 1, 1, 1, 1, 1, 1, 1, 1, 1, 1, 1, 1, 1, 1, 1, 1, 1, 1, 1, 1, 1, 1, 1, 1, 1, 1, 1, 1, 1, 1, 1, 1, 1, 1, 1, 1, 1, 1, 1, 1, 1, 1, 1, 1, 1, 1, 1, 1, 1, 1, 1, 1, 1, 1, 1, 1, 1, 1, 1, 1, 1, 1, 1, 1, 1, 1, 1, 1, 1, 1, 1, 1, 1, 1, 1, 1, 1, 1, 1, 1, 1, 1, 1, 1, 1, 1, 1, 1, 1, 1, 1, 1, 1, 1, 1, 1, 1, 1, 1, 1, 1, 1, 1, 1, 1, 1, 1, 1, 1, 1, 1, 1, 1, 1, 1, 1, 1, 1, 1, 1, 1, 1, 1, 1, 1, 1, 1, 1, 1, 1, 1, 1, 1, 1, 1, 1, 1, 1, 1, 1, 1, 1, 1, 1, 1, 1, 1, 1, 1, 1, 1, 1, 1, 1, 1, 1, 1, 1, 1, 1, 1, 1, 1, 1, 1, 1, 1, 1, 1, 1, 1, 1, 1, 1, 1, 1, 1, 1, 1, 1, 1, 1, 1, 1, 1, 1, 1, 1, 1, 1, 1, 1, 1, 1, 1, 1, 1, 1, 1, 1, 1, 1, 1, 1, 1, 1, 1, 1, 1, 1, 1, 1, 1, 1, 1, 1, 1, 1, 1, 1, 1, 1, 1, 1, 1, 1, 1, 1, 1, 1, 1, 1, 1, 1, 1, 1, 1, 1, 1, 1, 1, 1, 1, 1, 1, 1, 1, 1, 1, 1, 1, 1, 1, 1, 1, 1, 1, 1, 1, 1, 1, 1, 1, 1, 1, 1, 1, 1, 1, 1, 1, 1, 1, 1, 1, 1, 1, 1, 1, 1, 1, 1, 1, 1, 1, 1, 1, 1, 1, 1, 1, 1, 1, 1, 1, 1, 1, 1, 1, 1, 1, 1, 1, 1, 1, 1, 1, 1, 1, 1, 1, 1, 1, 1, 1, 1, 1, 1, 1, 1, 1, 1, 1, 1, 1, 1, 1, 1, 1, 1, 1, 1, 1, 1, 1, 1, 1, 1, 1, 1, 1, 1, 1, 1, 1, 1, 1, 1, 1, 1, 1, 1, 1, 1, 1, 1, 1, 1, 1, 1, 1, 1, 1, 1, 1, 1, 1, 1, 1, 1, 1, 1, 1, 1, 1, 1, 1, 1, 1, 1, 1, 1, 1, 1, 1, 1, 1, 1, 1, 1, 1, 1, 1, 1, 1, 1, 1, 1, 1, 1, 1, 1, 1, 1, 1, 1, 1, 1, 1, 1, 1, 1])\n"
     ]
    }
   ],
   "source": [
    "println(\"Local search results: \", foundSolution.variables) ;"
   ]
  },
  {
   "cell_type": "code",
   "execution_count": 40,
   "id": "a4908284",
   "metadata": {},
   "outputs": [
    {
     "ename": "LoadError",
     "evalue": "UndefVarError: `computingTime` not defined",
     "output_type": "error",
     "traceback": [
      "UndefVarError: `computingTime` not defined",
      "",
      "Stacktrace:",
      " [1] top-level scope",
      "   @ In[40]:1"
     ]
    }
   ],
   "source": [
    "println(\"Computing time: \", computingTime(solver))"
   ]
  },
  {
   "cell_type": "markdown",
   "id": "83a84074",
   "metadata": {},
   "source": [
    "## Example: binary problem with specific settings"
   ]
  },
  {
   "cell_type": "code",
   "execution_count": 29,
   "id": "9712c0d8",
   "metadata": {},
   "outputs": [],
   "source": [
    "# Step 1. Create the problem and the initial solution\n",
    "problem = oneMax(512) \n",
    "\n",
    "startingSolution = createSolution(problem)\n",
    "evaluate(startingSolution, problem) ;"
   ]
  },
  {
   "cell_type": "code",
   "execution_count": 30,
   "id": "7835b433",
   "metadata": {},
   "outputs": [],
   "source": [
    "# Step 2. Define the local search parameters\n",
    "mutation = BitFlipMutation(1.0 / numberOfVariables(problem))\n",
    "termination = TerminationByIterations(5000) ;"
   ]
  },
  {
   "cell_type": "code",
   "execution_count": 31,
   "id": "74bccf6e",
   "metadata": {},
   "outputs": [],
   "source": [
    "# Step 3. Configure the local search\n",
    "solver = LocalSearch(\n",
    "    startingSolution, \n",
    "    problem, \n",
    "    termination = termination, \n",
    "    mutation = mutation) ;"
   ]
  },
  {
   "cell_type": "code",
   "execution_count": 32,
   "id": "7ec30900",
   "metadata": {},
   "outputs": [
    {
     "name": "stdout",
     "output_type": "stream",
     "text": [
      "Fitness: 508.0\n",
      "Local search results: MetaJul.BitVector(Bool[1, 1, 1, 1, 1, 1, 1, 1, 1, 1, 1, 1, 1, 1, 1, 1, 1, 1, 1, 1, 1, 1, 1, 1, 1, 1, 1, 1, 1, 1, 1, 1, 1, 1, 1, 1, 1, 1, 1, 1, 1, 1, 1, 1, 1, 1, 1, 1, 1, 1, 1, 1, 1, 1, 1, 1, 1, 1, 1, 1, 1, 1, 1, 1, 1, 1, 1, 1, 1, 1, 1, 1, 1, 1, 1, 1, 1, 1, 1, 1, 1, 1, 1, 1, 1, 1, 1, 1, 1, 1, 1, 1, 1, 1, 1, 1, 1, 1, 1, 1, 1, 1, 1, 1, 1, 1, 1, 1, 1, 1, 1, 1, 1, 1, 1, 1, 1, 1, 1, 1, 1, 1, 1, 1, 1, 1, 1, 1, 1, 1, 1, 1, 1, 1, 1, 1, 1, 1, 1, 1, 1, 1, 1, 1, 1, 1, 1, 1, 1, 1, 1, 1, 1, 1, 1, 1, 1, 1, 1, 1, 1, 1, 1, 1, 1, 1, 1, 1, 1, 1, 1, 1, 1, 1, 1, 1, 1, 1, 1, 1, 0, 1, 1, 1, 1, 1, 1, 1, 1, 1, 1, 1, 1, 1, 1, 1, 1, 1, 1, 1, 1, 1, 1, 1, 1, 1, 1, 1, 1, 1, 1, 1, 1, 1, 1, 1, 1, 1, 1, 1, 1, 1, 1, 1, 1, 1, 1, 1, 1, 1, 1, 1, 1, 1, 1, 1, 1, 1, 1, 1, 1, 1, 1, 1, 1, 1, 1, 1, 1, 1, 1, 1, 1, 1, 1, 1, 1, 1, 1, 1, 1, 1, 1, 1, 1, 1, 1, 1, 1, 1, 1, 1, 1, 1, 1, 1, 1, 1, 1, 1, 1, 1, 1, 0, 1, 1, 1, 1, 1, 1, 1, 1, 0, 1, 1, 1, 1, 1, 1, 1, 1, 1, 1, 1, 1, 1, 1, 1, 1, 1, 1, 1, 1, 1, 1, 1, 1, 1, 1, 1, 1, 1, 1, 1, 1, 1, 1, 1, 1, 1, 1, 1, 1, 1, 1, 1, 1, 1, 1, 1, 1, 1, 1, 1, 1, 1, 1, 1, 1, 1, 1, 1, 1, 1, 1, 1, 1, 1, 1, 1, 1, 1, 1, 1, 1, 1, 1, 1, 1, 1, 1, 1, 1, 1, 1, 1, 1, 1, 1, 1, 1, 1, 1, 1, 1, 1, 1, 1, 1, 1, 1, 1, 1, 1, 1, 1, 1, 1, 1, 1, 1, 1, 1, 1, 1, 1, 1, 1, 1, 1, 1, 1, 1, 1, 1, 1, 1, 1, 1, 1, 1, 1, 1, 1, 1, 1, 1, 1, 1, 1, 1, 1, 1, 1, 1, 1, 1, 1, 1, 1, 1, 1, 1, 1, 1, 1, 1, 1, 1, 1, 1, 1, 1, 1, 1, 1, 1, 1, 1, 1, 1, 1, 1, 1, 1, 1, 1, 1, 1, 1, 1, 1, 1, 1, 1, 1, 1, 1, 1, 1, 1, 1, 1, 1, 1, 1, 1, 0, 1, 1, 1, 1, 1, 1, 1, 1, 1, 1, 1, 1, 1, 1, 1, 1, 1, 1, 1, 1, 1, 1, 1, 1])\n"
     ]
    }
   ],
   "source": [
    "# Step 4. Run the algorithm and print results\n",
    "optimize(solver) ;\n",
    "foundSolution = solver.currentSolution\n",
    "println(\"Fitness: \", -1.0 * foundSolution.objectives[1]) # OneMax is a maximization problem\n",
    "println(\"Local search results: \", foundSolution.variables)"
   ]
  },
  {
   "cell_type": "markdown",
   "id": "44730595",
   "metadata": {},
   "source": [
    "## Example: continuous problem with default settings\n",
    "The default settings is to terminate after 100000 iterations and the mutation operator is polynomial mutation."
   ]
  },
  {
   "cell_type": "code",
   "execution_count": 33,
   "id": "c6b690bb",
   "metadata": {},
   "outputs": [],
   "source": [
    "# Step 1. Create the problem and the initial solution\n",
    "problem = sphere(20) \n",
    "\n",
    "startingSolution = createSolution(problem)\n",
    "evaluate(startingSolution, problem) ;"
   ]
  },
  {
   "cell_type": "code",
   "execution_count": 34,
   "id": "e8dd973e",
   "metadata": {},
   "outputs": [],
   "source": [
    "# Step 2. Create the algorithm\n",
    "solver = LocalSearch(startingSolution, problem) ;"
   ]
  },
  {
   "cell_type": "code",
   "execution_count": 35,
   "id": "da5acb31",
   "metadata": {},
   "outputs": [
    {
     "name": "stdout",
     "output_type": "stream",
     "text": [
      "Fitness: 2.3547481131958014e-6\n",
      "Local search results: [0.00030660736539583856, -8.672232033502416e-5, 8.045787999478443e-5, -0.0006432754140449073, -0.0007262154398959664, 0.0001854659345890714, -0.0001657860621138308, 5.466999428455091e-5, 5.9295051311301e-5, -1.019266912420636e-5, 7.546389107587661e-6, -3.157300632265672e-5, -3.8025232995239756e-5, 0.0007454637081878842, 0.00022923273324431987, 0.0002949030132072597, -0.00018889590492105997, -0.0004942939836947427, -0.0005050726508813823, 6.499666449358239e-5]\n"
     ]
    }
   ],
   "source": [
    "# Step 3. Run the algorithm and print results\n",
    "optimize(solver) \n",
    "\n",
    "foundSolution = solver.currentSolution\n",
    "println(\"Fitness: \", foundSolution.objectives[1])\n",
    "println(\"Local search results: \", foundSolution.variables) ;"
   ]
  },
  {
   "cell_type": "markdown",
   "id": "5b016218",
   "metadata": {},
   "source": [
    "## Example: binary problem with specific settings"
   ]
  },
  {
   "cell_type": "code",
   "execution_count": 36,
   "id": "7da8fa40",
   "metadata": {},
   "outputs": [],
   "source": [
    "# Step 1. Create the problem and the initial solution\n",
    "problem = sphere(30) \n",
    "\n",
    "startingSolution = createSolution(problem)\n",
    "evaluate(startingSolution, problem) ;"
   ]
  },
  {
   "cell_type": "code",
   "execution_count": 37,
   "id": "d497ce7b",
   "metadata": {},
   "outputs": [],
   "source": [
    "# Step 2. Define the local search parameters\n",
    "mutation = UniformMutation(1.0 / numberOfVariables(problem), 0.5, problem.bounds)\n",
    "termination = TerminationByIterations(150000) ;"
   ]
  },
  {
   "cell_type": "code",
   "execution_count": 38,
   "id": "55c1166f",
   "metadata": {},
   "outputs": [],
   "source": [
    "# Step 3. Configure the local search\n",
    "solver = LocalSearch(\n",
    "    startingSolution, \n",
    "    problem, \n",
    "    termination = termination, \n",
    "    mutation = mutation) ;"
   ]
  },
  {
   "cell_type": "code",
   "execution_count": 39,
   "id": "2f2b66ef",
   "metadata": {},
   "outputs": [
    {
     "name": "stdout",
     "output_type": "stream",
     "text": [
      "Fitness: 1.1044907882704676e-6\n",
      "Local search results: [-0.00025895104362932964, -2.190525784939723e-5, -0.00020999082873696118, 4.347172013668965e-5, -0.0001896116446680196, -4.0577726621748855e-5, -0.00012912645187129757, -0.00016036875992597732, -6.10138265202953e-5, -0.0002908046768144157, -3.49800797048716e-5, 0.0001417886360196574, 9.716723254538095e-5, -0.0003420533155067962, -6.889967041850964e-5, -0.0002157325394236409, -0.00022073230900720997, 9.592820226378418e-5, 0.00028645759555750994, -0.00014855390897489107, -0.0001682592917626735, -6.574955607796529e-6, -0.00044121832061522204, -0.0002798629707516098, 0.0001797671971784376, -7.032164856363154e-5, 2.4382666076072645e-5, -4.9921494449767234e-5, -0.0002577064521106509, -0.00023123146512576964]\n"
     ]
    }
   ],
   "source": [
    "# Step 4. Run the algorithm and print results\n",
    "optimize(solver) \n",
    "\n",
    "foundSolution = solver.currentSolution\n",
    "println(\"Fitness: \", foundSolution.objectives[1])\n",
    "println(\"Local search results: \", foundSolution.variables) ;"
   ]
  },
  {
   "cell_type": "code",
   "execution_count": null,
   "id": "819fb6b1",
   "metadata": {},
   "outputs": [],
   "source": []
  }
 ],
 "metadata": {
  "kernelspec": {
   "display_name": "Julia 1.10.4",
   "language": "julia",
   "name": "julia-1.10"
  },
  "language_info": {
   "file_extension": ".jl",
   "mimetype": "application/julia",
   "name": "julia",
   "version": "1.10.4"
  }
 },
 "nbformat": 4,
 "nbformat_minor": 5
}
