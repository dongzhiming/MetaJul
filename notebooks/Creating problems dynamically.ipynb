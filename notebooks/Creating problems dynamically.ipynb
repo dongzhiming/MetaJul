{
 "cells": [
  {
   "cell_type": "markdown",
   "id": "7761d42f",
   "metadata": {},
   "source": [
    "# Creating problems dynamically"
   ]
  },
  {
   "cell_type": "markdown",
   "id": "267837a9",
   "metadata": {},
   "source": [
    "The first approach to define problems in MetaJul is to create them in a dynamic way. We illustrate in this notebook how to do it with some examples of continuous problems."
   ]
  },
  {
   "cell_type": "markdown",
   "id": "2401d80b",
   "metadata": {},
   "source": [
    "Our starting point is the struct ``ContinuousProblem`` defined in ``src/continuousProblem.jl``:\n",
    "\n",
    "```julia\n",
    "abstract type AbstractContinuousProblem{T<:Number} <: Problem{T} end\n",
    "\n",
    "mutable struct ContinuousProblem{T} <: AbstractContinuousProblem{T}\n",
    "  bounds::Vector{Bounds{T}}\n",
    "  objectives::Vector{Function}\n",
    "  constraints::Vector{Function}\n",
    "  name::String\n",
    "end\n",
    "```"
   ]
  },
  {
   "cell_type": "markdown",
   "id": "65958db8",
   "metadata": {},
   "source": [
    "Let us suppose that we intend to implement problem Schaffer:\n",
    "\n",
    "$$\n",
    "f_1(x) = x \n",
    "$$\n",
    "$$\n",
    "f_2(x) = (x-2)^2\n",
    "$$\n",
    "$$\n",
    "x \\in [-10^3, 10^3]\n",
    "$$\n",
    "\n",
    "The code to define the problem is as follows:"
   ]
  },
  {
   "cell_type": "markdown",
   "id": "0a00080f",
   "metadata": {},
   "source": [
    "```julia\n",
    "function schafferProblem()\n",
    "  schaffer = ContinuousProblem{Real}(\"Schaffer\")\n",
    "\n",
    "  f = x -> x[1] * x[1]\n",
    "  g = x -> (x[1] - 2.0) * (x[1] - 2.0)\n",
    "\n",
    "  addObjective(schaffer, f)\n",
    "  addObjective(schaffer, g)\n",
    "  addVariable(schaffer, Bounds{Real}(-1000.0, 1000.0))\n",
    "\n",
    "  return schaffer\n",
    "end\n",
    "\n",
    "```"
   ]
  },
  {
   "cell_type": "markdown",
   "id": "38c38a5b",
   "metadata": {},
   "source": []
  },
  {
   "cell_type": "markdown",
   "id": "8580beb0",
   "metadata": {},
   "source": [
    "This approach works when the functions to optimize are small and they are independant. Otherwise, an altenative way has to be applied (TODO: e"
   ]
  }
 ],
 "metadata": {
  "kernelspec": {
   "display_name": "Julia 1.8.0",
   "language": "julia",
   "name": "julia-1.8"
  },
  "language_info": {
   "file_extension": ".jl",
   "mimetype": "application/julia",
   "name": "julia",
   "version": "1.8.0"
  }
 },
 "nbformat": 4,
 "nbformat_minor": 5
}
