{
 "cells": [
  {
   "cell_type": "markdown",
   "id": "94d16fd5",
   "metadata": {},
   "source": [
    "# Examples of configuring and running NSGA-II\n",
    "\n",
    "This notebook includes two examples where NSGA-II is used to solve a continuous and a binary multi-objective problems."
   ]
  },
  {
   "cell_type": "code",
   "execution_count": 1,
   "id": "ebc4e903",
   "metadata": {},
   "outputs": [
    {
     "ename": "ArgumentError",
     "evalue": "ArgumentError: Package MetaJul [ca897826-12de-4e40-9dbf-1888d61ae1b2] is required but does not seem to be installed:\n - Run `Pkg.instantiate()` to install all recorded dependencies.\n",
     "output_type": "error",
     "traceback": [
      "ArgumentError: Package MetaJul [ca897826-12de-4e40-9dbf-1888d61ae1b2] is required but does not seem to be installed:\n",
      " - Run `Pkg.instantiate()` to install all recorded dependencies.\n",
      "\n",
      "\n",
      "Stacktrace:\n",
      "  [1] _require(pkg::Base.PkgId, env::String)\n",
      "    @ Base ./loading.jl:1926\n",
      "  [2] __require_prelocked(uuidkey::Base.PkgId, env::String)\n",
      "    @ Base ./loading.jl:1812\n",
      "  [3] #invoke_in_world#3\n",
      "    @ ./essentials.jl:926 [inlined]\n",
      "  [4] invoke_in_world\n",
      "    @ ./essentials.jl:923 [inlined]\n",
      "  [5] _require_prelocked(uuidkey::Base.PkgId, env::String)\n",
      "    @ Base ./loading.jl:1803\n",
      "  [6] macro expansion\n",
      "    @ ./loading.jl:1790 [inlined]\n",
      "  [7] macro expansion\n",
      "    @ ./lock.jl:267 [inlined]\n",
      "  [8] __require(into::Module, mod::Symbol)\n",
      "    @ Base ./loading.jl:1753\n",
      "  [9] #invoke_in_world#3\n",
      "    @ ./essentials.jl:926 [inlined]\n",
      " [10] invoke_in_world\n",
      "    @ ./essentials.jl:923 [inlined]\n",
      " [11] require(into::Module, mod::Symbol)\n",
      "    @ Base ./loading.jl:1746\n",
      " [12] eval\n",
      "    @ ./boot.jl:385 [inlined]\n",
      " [13] include_string(mapexpr::typeof(REPL.softscope), mod::Module, code::String, filename::String)\n",
      "    @ Base ./loading.jl:2076\n",
      " [14] #invokelatest#2\n",
      "    @ ./essentials.jl:892 [inlined]\n",
      " [15] invokelatest\n",
      "    @ ./essentials.jl:889 [inlined]\n",
      " [16] (::VSCodeServer.var\"#219#220\"{VSCodeServer.NotebookRunCellArguments, String})()\n",
      "    @ VSCodeServer ~/.vscode/extensions/julialang.language-julia-1.79.2/scripts/packages/VSCodeServer/src/serve_notebook.jl:19\n",
      " [17] withpath(f::VSCodeServer.var\"#219#220\"{VSCodeServer.NotebookRunCellArguments, String}, path::String)\n",
      "    @ VSCodeServer ~/.vscode/extensions/julialang.language-julia-1.79.2/scripts/packages/VSCodeServer/src/repl.jl:276\n",
      " [18] notebook_runcell_request(conn::VSCodeServer.JSONRPC.JSONRPCEndpoint{Base.PipeEndpoint, Base.PipeEndpoint}, params::VSCodeServer.NotebookRunCellArguments)\n",
      "    @ VSCodeServer ~/.vscode/extensions/julialang.language-julia-1.79.2/scripts/packages/VSCodeServer/src/serve_notebook.jl:13\n",
      " [19] dispatch_msg(x::VSCodeServer.JSONRPC.JSONRPCEndpoint{Base.PipeEndpoint, Base.PipeEndpoint}, dispatcher::VSCodeServer.JSONRPC.MsgDispatcher, msg::Dict{String, Any})\n",
      "    @ VSCodeServer.JSONRPC ~/.vscode/extensions/julialang.language-julia-1.79.2/scripts/packages/JSONRPC/src/typed.jl:67\n",
      " [20] serve_notebook(pipename::String, outputchannel_logger::Base.CoreLogging.SimpleLogger; crashreporting_pipename::String)\n",
      "    @ VSCodeServer ~/.vscode/extensions/julialang.language-julia-1.79.2/scripts/packages/VSCodeServer/src/serve_notebook.jl:139\n",
      " [21] top-level scope\n",
      "    @ ~/.vscode/extensions/julialang.language-julia-1.79.2/scripts/notebook/notebook.jl:35"
     ]
    }
   ],
   "source": [
    "using MetaJul\n",
    "using Dates"
   ]
  },
  {
   "cell_type": "markdown",
   "id": "0d4dac18",
   "metadata": {},
   "source": [
    "## Configure the algorithm to solve a continuous problem (Kursawe)"
   ]
  },
  {
   "cell_type": "markdown",
   "id": "86be3d7a",
   "metadata": {},
   "source": [
    "### Indicate the problem to solve"
   ]
  },
  {
   "cell_type": "code",
   "execution_count": 2,
   "id": "f45c2dcd",
   "metadata": {},
   "outputs": [
    {
     "ename": "UndefVarError",
     "evalue": "UndefVarError: `kursawe` not defined",
     "output_type": "error",
     "traceback": [
      "UndefVarError: `kursawe` not defined\n",
      "\n",
      "Stacktrace:\n",
      " [1] top-level scope\n",
      "   @ ~/Softw/julia/metajul/notebooks/NSGA-II notebook.ipynb:1"
     ]
    }
   ],
   "source": [
    "problem = kursawe()"
   ]
  },
  {
   "cell_type": "markdown",
   "id": "615b7de1",
   "metadata": {},
   "source": [
    "### A solver contains the algorithm components and parameters"
   ]
  },
  {
   "cell_type": "code",
   "execution_count": 3,
   "id": "bef9eff3",
   "metadata": {},
   "outputs": [
    {
     "ename": "UndefVarError",
     "evalue": "UndefVarError: `NSGAII` not defined",
     "output_type": "error",
     "traceback": [
      "UndefVarError: `NSGAII` not defined\n",
      "\n",
      "Stacktrace:\n",
      " [1] top-level scope\n",
      "   @ ~/Softw/julia/metajul/notebooks/NSGA-II notebook.ipynb:1"
     ]
    }
   ],
   "source": [
    "solver::NSGAII = NSGAII()\n",
    "solver.problem = problem\n",
    "solver.populationSize = 100"
   ]
  },
  {
   "cell_type": "code",
   "execution_count": 4,
   "id": "a9b91d3b",
   "metadata": {},
   "outputs": [
    {
     "ename": "UndefVarError",
     "evalue": "UndefVarError: `TerminationByEvaluations` not defined",
     "output_type": "error",
     "traceback": [
      "UndefVarError: `TerminationByEvaluations` not defined\n",
      "\n",
      "Stacktrace:\n",
      " [1] top-level scope\n",
      "   @ ~/Softw/julia/metajul/notebooks/NSGA-II notebook.ipynb:1"
     ]
    }
   ],
   "source": [
    "solver.termination = TerminationByEvaluations(25000)\n",
    "solver.mutation = PolynomialMutation(1.0/numberOfVariables(problem),20.0, problem.bounds)\n",
    "solver.crossover = SBXCrossover(1.0, 20.0, problem.bounds)"
   ]
  },
  {
   "cell_type": "markdown",
   "id": "479b963e",
   "metadata": {},
   "source": [
    "### Run the algorithm"
   ]
  },
  {
   "cell_type": "code",
   "execution_count": 5,
   "id": "d5445a96",
   "metadata": {},
   "outputs": [
    {
     "ename": "UndefVarError",
     "evalue": "UndefVarError: `Dates` not defined",
     "output_type": "error",
     "traceback": [
      "UndefVarError: `Dates` not defined\n",
      "\n",
      "Stacktrace:\n",
      " [1] top-level scope\n",
      "   @ ~/Softw/julia/metajul/notebooks/NSGA-II notebook.ipynb:1"
     ]
    }
   ],
   "source": [
    "startingTime = Dates.now()\n",
    "optimize(solver)\n",
    "endTime = Dates.now()\n",
    "\n",
    "println(\"Computing time: \", (endTime - startingTime))"
   ]
  },
  {
   "cell_type": "markdown",
   "id": "545b54c9",
   "metadata": {},
   "source": [
    "### Print the results"
   ]
  },
  {
   "cell_type": "code",
   "execution_count": 6,
   "id": "83b0fd8f",
   "metadata": {},
   "outputs": [
    {
     "ename": "UndefVarError",
     "evalue": "UndefVarError: `solver` not defined",
     "output_type": "error",
     "traceback": [
      "UndefVarError: `solver` not defined\n",
      "\n",
      "Stacktrace:\n",
      " [1] top-level scope\n",
      "   @ ~/Softw/julia/metajul/notebooks/NSGA-II notebook.ipynb:1"
     ]
    }
   ],
   "source": [
    "using Plots\n",
    " \n",
    "#data to plot\n",
    "x = [solution.objectives[1] for solution in solver.foundSolutions];\n",
    "y = [solution.objectives[2] for solution in solver.foundSolutions];\n",
    " \n",
    "gr();\n",
    " \n",
    "scatter(x, y,  title = \"Pareto front approximation\", label = \"Solutions\")\n",
    "xlabel!(\"First objective\")\n",
    "ylabel!(\"Second objective\")"
   ]
  },
  {
   "cell_type": "code",
   "execution_count": 7,
   "id": "b505e9bb",
   "metadata": {},
   "outputs": [],
   "source": []
  },
  {
   "cell_type": "markdown",
   "id": "35cd566e",
   "metadata": {},
   "source": [
    "## Configure the algorithm to solve a binary problem (OneZeroMax)"
   ]
  },
  {
   "cell_type": "code",
   "execution_count": 8,
   "id": "c3ad38df",
   "metadata": {},
   "outputs": [
    {
     "ename": "UndefVarError",
     "evalue": "UndefVarError: `oneZeroMax` not defined",
     "output_type": "error",
     "traceback": [
      "UndefVarError: `oneZeroMax` not defined\n",
      "\n",
      "Stacktrace:\n",
      " [1] top-level scope\n",
      "   @ ~/Softw/julia/metajul/notebooks/NSGA-II notebook.ipynb:2"
     ]
    }
   ],
   "source": [
    "# The oneZeroMax function consists of miximizing the number of zeros and the number of ones in a binary string\n",
    "problem = oneZeroMax(512)"
   ]
  },
  {
   "cell_type": "code",
   "execution_count": 9,
   "id": "686a628d",
   "metadata": {},
   "outputs": [
    {
     "ename": "UndefVarError",
     "evalue": "UndefVarError: `NSGAII` not defined",
     "output_type": "error",
     "traceback": [
      "UndefVarError: `NSGAII` not defined\n",
      "\n",
      "Stacktrace:\n",
      " [1] top-level scope\n",
      "   @ ~/Softw/julia/metajul/notebooks/NSGA-II notebook.ipynb:1"
     ]
    }
   ],
   "source": [
    "solver::NSGAII = NSGAII()\n",
    "solver.problem = problem\n",
    "solver.populationSize = 100"
   ]
  },
  {
   "cell_type": "code",
   "execution_count": 10,
   "id": "cff6517a",
   "metadata": {},
   "outputs": [
    {
     "ename": "UndefVarError",
     "evalue": "UndefVarError: `TerminationByEvaluations` not defined",
     "output_type": "error",
     "traceback": [
      "UndefVarError: `TerminationByEvaluations` not defined\n",
      "\n",
      "Stacktrace:\n",
      " [1] top-level scope\n",
      "   @ ~/Softw/julia/metajul/notebooks/NSGA-II notebook.ipynb:1"
     ]
    }
   ],
   "source": [
    "solver.termination = TerminationByEvaluations(25000)\n",
    "solver.mutation = BitFlipMutation(1.0/numberOfVariables(problem))\n",
    "solver.crossover = SinglePointCrossover(1.0)"
   ]
  },
  {
   "cell_type": "code",
   "execution_count": 11,
   "id": "6303597b",
   "metadata": {},
   "outputs": [
    {
     "ename": "UndefVarError",
     "evalue": "UndefVarError: `Dates` not defined",
     "output_type": "error",
     "traceback": [
      "UndefVarError: `Dates` not defined\n",
      "\n",
      "Stacktrace:\n",
      " [1] top-level scope\n",
      "   @ ~/Softw/julia/metajul/notebooks/NSGA-II notebook.ipynb:1"
     ]
    }
   ],
   "source": [
    "startingTime = Dates.now()\n",
    "optimize(solver)\n",
    "endTime = Dates.now()\n",
    "\n",
    "println(\"Computing time: \", (endTime - startingTime))"
   ]
  },
  {
   "cell_type": "code",
   "execution_count": 12,
   "id": "46521840",
   "metadata": {},
   "outputs": [
    {
     "ename": "UndefVarError",
     "evalue": "UndefVarError: `solver` not defined",
     "output_type": "error",
     "traceback": [
      "UndefVarError: `solver` not defined\n",
      "\n",
      "Stacktrace:\n",
      " [1] top-level scope\n",
      "   @ ~/Softw/julia/metajul/notebooks/NSGA-II notebook.ipynb:1"
     ]
    }
   ],
   "source": [
    "#data to plot\n",
    "x = [solution.objectives[1] for solution in solver.foundSolutions];\n",
    "y = [solution.objectives[2] for solution in solver.foundSolutions];\n",
    " \n",
    "gr();\n",
    " \n",
    "scatter(x, y,  title = \"Pareto front approximation\", label = \"Solutions\")\n",
    "xlabel!(\"First objective\")\n",
    "ylabel!(\"Second objective\")"
   ]
  },
  {
   "cell_type": "code",
   "execution_count": 13,
   "id": "16fba7b4",
   "metadata": {},
   "outputs": [],
   "source": []
  },
  {
   "cell_type": "code",
   "execution_count": 14,
   "id": "7fde4f75",
   "metadata": {},
   "outputs": [],
   "source": []
  }
 ],
 "metadata": {
  "kernelspec": {
   "display_name": "Julia 1.10.3",
   "language": "julia",
   "name": "julia-1.10"
  },
  "language_info": {
   "file_extension": ".jl",
   "mimetype": "application/julia",
   "name": "julia",
   "version": "1.10.3"
  }
 },
 "nbformat": 4,
 "nbformat_minor": 5
}
